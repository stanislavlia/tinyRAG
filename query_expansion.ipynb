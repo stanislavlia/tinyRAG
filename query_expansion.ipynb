{
 "cells": [
  {
   "cell_type": "code",
   "execution_count": 5,
   "id": "6e315522",
   "metadata": {},
   "outputs": [],
   "source": [
    "from openai import OpenAI\n",
    "import os\n",
    "from dotenv import load_dotenv, find_dotenv\n",
    "\n",
    "_ = load_dotenv(find_dotenv())\n",
    "\n",
    "OPENAI_API_KEY = os.environ[\"OPENAI_API_KEY\"]\n",
    "\n",
    "openai_client = OpenAI(api_key=OPENAI_API_KEY)"
   ]
  },
  {
   "cell_type": "code",
   "execution_count": null,
   "id": "fc6e2c98",
   "metadata": {},
   "outputs": [],
   "source": []
  },
  {
   "cell_type": "code",
   "execution_count": 11,
   "id": "133dd165",
   "metadata": {},
   "outputs": [],
   "source": [
    "K_AUG_QUERIES = 8\n",
    "\n",
    "SYSTEM_PROMT_QUERY_EXPANSION = f\"\"\"Suggest up to {K_AUG_QUERIES} additional related questions to help them find the information they need, for the provided question. \n",
    "                                    Suggest only short questions without compound sentences. Suggest a variety of questions that cover different aspects of the topic.\n",
    "                                    Make sure they are complete questions, and that they are related to the original question.\n",
    "                                    Output one question per line. Do not number the questions.\"\"\""
   ]
  },
  {
   "cell_type": "code",
   "execution_count": 12,
   "id": "85144f7a",
   "metadata": {},
   "outputs": [],
   "source": [
    "def augment_multiple_query(query, model=\"gpt-3.5-turbo\"):\n",
    "    messages = [\n",
    "        {\n",
    "            \"role\": \"system\",\n",
    "            \"content\": SYSTEM_PROMT_QUERY_EXPANSION,\n",
    "        },\n",
    "        {\"role\": \"user\", \"content\": query}\n",
    "    ]\n",
    "\n",
    "    response = openai_client.chat.completions.create(\n",
    "        model=model,\n",
    "        messages=messages,\n",
    "    )\n",
    "    content = response.choices[0].message.content\n",
    "    content = content.split(\"\\n\")\n",
    "    return content"
   ]
  },
  {
   "cell_type": "code",
   "execution_count": 13,
   "id": "02cfe5e0",
   "metadata": {},
   "outputs": [
    {
     "data": {
      "text/plain": [
       "['- What are the advantages of using threads in computer science?',\n",
       " '- How do threads improve performance in software development?',\n",
       " '- What are common challenges when working with threads in computer science?',\n",
       " '- How do threads enable multitasking in computer programs?',\n",
       " '- What tools or programming languages are commonly used to implement threads?',\n",
       " '- Can threads be used for parallel processing in computer science?',\n",
       " '- In what scenarios would using threads be considered inefficient?',\n",
       " '- How do threads differ from processes in computer science?']"
      ]
     },
     "execution_count": 13,
     "metadata": {},
     "output_type": "execute_result"
    }
   ],
   "source": [
    "augment_multiple_query(\"Where are threads usually used for in Computer Science?\")"
   ]
  },
  {
   "cell_type": "code",
   "execution_count": null,
   "id": "7c157df0",
   "metadata": {},
   "outputs": [],
   "source": []
  }
 ],
 "metadata": {
  "kernelspec": {
   "display_name": "Python 3 (ipykernel)",
   "language": "python",
   "name": "python3"
  },
  "language_info": {
   "codemirror_mode": {
    "name": "ipython",
    "version": 3
   },
   "file_extension": ".py",
   "mimetype": "text/x-python",
   "name": "python",
   "nbconvert_exporter": "python",
   "pygments_lexer": "ipython3",
   "version": "3.10.12"
  }
 },
 "nbformat": 4,
 "nbformat_minor": 5
}
