{
 "cells": [
  {
   "cell_type": "code",
   "execution_count": 1,
   "id": "c77df3c4",
   "metadata": {},
   "outputs": [],
   "source": [
    "from langchain_community.document_loaders import PyPDFLoader\n",
    "from langchain.text_splitter import RecursiveCharacterTextSplitter\n",
    "import os\n",
    "from tqdm import tqdm\n",
    "from embedding_model import Embedder\n",
    "import chromadb\n",
    "import torch\n",
    "\n",
    "import ra\n",
    "\n",
    "\n",
    "\n",
    "loader = PyPDFLoader(\"library/pthreads.pdf\")\n",
    "pages = loader.load_and_split(text_splitter=RecursiveCharacterTextSplitter(chunk_size=1500, \n",
    "                                                                           chunk_overlap=100,\n",
    "                                                                           separators=[\"\\n\", \"\\t\", \".\", \",\", \" \", \"\"],\n",
    "                                                                           ))"
   ]
  },
  {
   "cell_type": "code",
   "execution_count": 2,
   "id": "69b22d11",
   "metadata": {},
   "outputs": [
    {
     "data": {
      "text/plain": [
       "['Science_of_Wellbeing_JTF_1.pdf',\n",
       " 'DTSA 5509 -annasanders.pdf',\n",
       " 'pthreads.pdf',\n",
       " 'UMAP paper.pdf']"
      ]
     },
     "execution_count": 2,
     "metadata": {},
     "output_type": "execute_result"
    }
   ],
   "source": [
    "os.listdir(\"library/\")"
   ]
  },
  {
   "cell_type": "code",
   "execution_count": 38,
   "id": "bbc2d585",
   "metadata": {},
   "outputs": [],
   "source": [
    "class PdfChunksLoader_ChromaDB():\n",
    "    def __init__(self, collection, embedder):\n",
    "        \n",
    "        self.collection = collection\n",
    "        self.embedder = embedder\n",
    "        self.id = 0\n",
    "        \n",
    "        \n",
    "    def _extract_pdf_chunks(self, path, text_splitter):\n",
    "        \n",
    "        loader = PyPDFLoader(path)\n",
    "        \n",
    "        chunks = loader.load_and_split(text_splitter=text_splitter)\n",
    "        \n",
    "        return chunks\n",
    "        \n",
    "        \n",
    "    def populate(self, documents):\n",
    "        ##TODO: add batch size for computing embeddings\n",
    "        \n",
    "        self.collection.add(\n",
    "            documents=[chunk.page_content for chunk in tqdm(documents)],\n",
    "            \n",
    "            metadatas = [chunk.metadata for chunk in tqdm(documents)],\n",
    "            \n",
    "            embeddings = self.embedder.compute_embeddings([chunk.page_content for chunk in documents]).tolist(),\n",
    "            ids = [\"uri\" + str(abs(hash(chunk.page_content))) for chunk in tqdm(documents)]\n",
    "            \n",
    "            )\n",
    " \n",
    "        print(\"Documents loaded to DB\")\n",
    "        "
   ]
  },
  {
   "cell_type": "code",
   "execution_count": 6,
   "id": "70fe6bc3",
   "metadata": {},
   "outputs": [],
   "source": [
    "\n",
    "db_client = chromadb.PersistentClient(path=\"./persistent_storage\")\n",
    "\n",
    "collection = db_client.get_collection(\"my_collection\")\n"
   ]
  },
  {
   "cell_type": "code",
   "execution_count": 7,
   "id": "405b75b9",
   "metadata": {},
   "outputs": [
    {
     "name": "stderr",
     "output_type": "stream",
     "text": [
      "2024-03-15 15:08:19.766119: I tensorflow/core/platform/cpu_feature_guard.cc:182] This TensorFlow binary is optimized to use available CPU instructions in performance-critical operations.\n",
      "To enable the following instructions: AVX2 FMA, in other operations, rebuild TensorFlow with the appropriate compiler flags.\n",
      "2024-03-15 15:08:21.454087: W tensorflow/compiler/tf2tensorrt/utils/py_utils.cc:38] TF-TRT Warning: Could not find TensorRT\n"
     ]
    }
   ],
   "source": [
    "embedder = Embedder(model_name='sentence-transformers/all-MiniLM-L12-v2',\n",
    "                    tokenizer_name='sentence-transformers/all-MiniLM-L12-v2')"
   ]
  },
  {
   "cell_type": "code",
   "execution_count": 39,
   "id": "0fe5f15b",
   "metadata": {},
   "outputs": [
    {
     "name": "stderr",
     "output_type": "stream",
     "text": [
      "100%|███████████████████████████████████████| 50/50 [00:00<00:00, 645277.54it/s]\n",
      "100%|███████████████████████████████████████| 50/50 [00:00<00:00, 348364.12it/s]\n",
      "100%|███████████████████████████████████████| 50/50 [00:00<00:00, 228946.72it/s]"
     ]
    },
    {
     "name": "stdout",
     "output_type": "stream",
     "text": [
      "Documents loaded to DB\n"
     ]
    },
    {
     "name": "stderr",
     "output_type": "stream",
     "text": [
      "\n"
     ]
    }
   ],
   "source": [
    "chunkloader = PdfChunksLoader_ChromaDB(collection, embedder)\n",
    "\n",
    "\n",
    "docs = chunkloader._extract_pdf_chunks(\"library/pthreads.pdf\",  RecursiveCharacterTextSplitter(chunk_size=1500, \n",
    "                                                                           chunk_overlap=100,\n",
    "                                                                           separators=[\"\\n\", \"\\t\", \".\", \",\", \" \", \"\"],\n",
    "                                                                           ))\n",
    "\n",
    "\n",
    "chunkloader.populate(docs[:50])"
   ]
  },
  {
   "cell_type": "code",
   "execution_count": 40,
   "id": "1db28186",
   "metadata": {
    "scrolled": true
   },
   "outputs": [],
   "source": [
    "my_query = \"POSIX standards for threads in C programming language\"\n",
    "\n",
    "embedded_query = embedder.compute_embeddings([my_query])\n"
   ]
  },
  {
   "cell_type": "code",
   "execution_count": 41,
   "id": "b126d812",
   "metadata": {},
   "outputs": [
    {
     "data": {
      "text/plain": [
       "{'ids': [['uri1427',\n",
       "   'uri2107325473294000610',\n",
       "   'uri7563616457436198572',\n",
       "   'uri580',\n",
       "   'uri1117']],\n",
       " 'distances': [[0.8717448909668059,\n",
       "   0.8717448909668059,\n",
       "   0.891821991243155,\n",
       "   0.891821991243155,\n",
       "   0.9114785380490571]],\n",
       " 'metadatas': [[{'page': 1, 'source': 'library/pthreads.pdf'},\n",
       "   {'page': 1, 'source': 'library/pthreads.pdf'},\n",
       "   {'page': 4, 'source': 'library/pthreads.pdf'},\n",
       "   {'page': 4, 'source': 'library/pthreads.pdf'},\n",
       "   {'page': 1, 'source': 'library/pthreads.pdf'}]],\n",
       " 'embeddings': None,\n",
       " 'documents': [['62 Chapter 4 Threads\\nfrom or write to that file descriptor. Because a process and all its threads can be exe-cuting only one program at a time, if any thread inside a process calls one of the \\nexec\\nfunctions, all the other threads are ended (the new program may, of course, create newthreads).\\nGNU/Linux implements the POSIX standard thread API (known as pthreads ).All\\nthread functions and data types are declared in the header file \\n<pthread.h> .The\\npthread functions are not included in the standard C library. Instead, they are in\\nlibpthread , so you should add -lpthread to the command line when you link your\\nprogram.\\n4.1 Thread Creation\\nEach thread in a process is identified by a thread ID .When referring to thread IDs in\\nC or C++ programs, use the type pthread_t .\\nUpon creation, each thread executes a thread function .This is just an ordinary func-\\ntion and contains the code that the thread should run.When the function returns, thethread exits. On GNU/Linux, thread functions take a single parameter, of type \\nvoid* ,\\nand have a void* return type.The parameter is the thread argument : GNU/Linux passes\\nthe value along to the thread without looking at it.Y our program can use this parame-ter to pass data to a new thread. Similarly, your program can use the return value topass data from an exiting thread back to its creator.\\nThe \\npthread_create function creates a new thread.Y ou provide it with the following:',\n",
       "   '62 Chapter 4 Threads\\nfrom or write to that file descriptor. Because a process and all its threads can be exe-cuting only one program at a time, if any thread inside a process calls one of the \\nexec\\nfunctions, all the other threads are ended (the new program may, of course, create newthreads).\\nGNU/Linux implements the POSIX standard thread API (known as pthreads ).All\\nthread functions and data types are declared in the header file \\n<pthread.h> .The\\npthread functions are not included in the standard C library. Instead, they are in\\nlibpthread , so you should add -lpthread to the command line when you link your\\nprogram.\\n4.1 Thread Creation\\nEach thread in a process is identified by a thread ID .When referring to thread IDs in\\nC or C++ programs, use the type pthread_t .\\nUpon creation, each thread executes a thread function .This is just an ordinary func-\\ntion and contains the code that the thread should run.When the function returns, thethread exits. On GNU/Linux, thread functions take a single parameter, of type \\nvoid* ,\\nand have a void* return type.The parameter is the thread argument : GNU/Linux passes\\nthe value along to the thread without looking at it.Y our program can use this parame-ter to pass data to a new thread. Similarly, your program can use the return value topass data from an exiting thread back to its creator.\\nThe \\npthread_create function creates a new thread.Y ou provide it with the following:',\n",
       "   'thread ’s return value. If you don ’t care about the thread return value, pass NULL as the\\nsecond argument.\\nListing 4.3 shows the corrected main function for the buggy example in Listing 4.2.\\nIn this version, main does not exit until both of the threads printing x ’s and o ’s have\\ncompleted, so they are no longer using the argument structures.\\nListing 4.3 Revised Main Function for thread-create2.c\\nint main (){\\npthread_t thread1_id;pthread_t thread2_id;struct char_print_parms thread1_args;struct char_print_parms thread2_args;\\ncontinues05 0430 CH04  5/22/01  10:21 AM  Page 65',\n",
       "   'thread ’s return value. If you don ’t care about the thread return value, pass NULL as the\\nsecond argument.\\nListing 4.3 shows the corrected main function for the buggy example in Listing 4.2.\\nIn this version, main does not exit until both of the threads printing x ’s and o ’s have\\ncompleted, so they are no longer using the argument structures.\\nListing 4.3 Revised Main Function for thread-create2.c\\nint main (){\\npthread_t thread1_id;pthread_t thread2_id;struct char_print_parms thread1_args;struct char_print_parms thread2_args;\\ncontinues05 0430 CH04  5/22/01  10:21 AM  Page 65',\n",
       "   'The \\npthread_create function creates a new thread.Y ou provide it with the following:\\n1. A pointer to a pthread_t variable, in which the thread ID of the new thread is\\nstored.\\n2. A pointer to a thread attribute object.This object controls details of how the\\nthread interacts with the rest of the program. If you pass NULL as the thread\\nattribute, a thread will be created with the default thread attributes.Threadattributes are discussed in Section 4.1.5, “Thread Attributes. ”\\n3. A pointer to the thread function.This is an ordinary function pointer, of this\\ntype:\\nvoid* (*) (void*)\\n4. A thread argument value of type void* . Whatever you pass is simply passed as\\nthe argument to the thread function when the thread begins executing.\\nA call to pthread_create returns immediately, and the original thread continues exe-\\ncuting the instructions following the call. Meanwhile, the new thread begins executingthe thread function. Linux schedules both threads asynchronously, and your programmust not rely on the relative order in which instructions are executed in the twothreads.05 0430 CH04  5/22/01  10:21 AM  Page 62']]}"
      ]
     },
     "execution_count": 41,
     "metadata": {},
     "output_type": "execute_result"
    }
   ],
   "source": [
    "collection.query(embedded_query.tolist(), n_results=5)"
   ]
  },
  {
   "cell_type": "code",
   "execution_count": null,
   "id": "868d8ebe",
   "metadata": {},
   "outputs": [],
   "source": []
  }
 ],
 "metadata": {
  "kernelspec": {
   "display_name": "Python 3 (ipykernel)",
   "language": "python",
   "name": "python3"
  },
  "language_info": {
   "codemirror_mode": {
    "name": "ipython",
    "version": 3
   },
   "file_extension": ".py",
   "mimetype": "text/x-python",
   "name": "python",
   "nbconvert_exporter": "python",
   "pygments_lexer": "ipython3",
   "version": "3.10.12"
  }
 },
 "nbformat": 4,
 "nbformat_minor": 5
}
