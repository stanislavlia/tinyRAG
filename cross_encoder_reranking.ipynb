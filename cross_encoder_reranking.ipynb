{
 "cells": [
  {
   "cell_type": "code",
   "execution_count": 36,
   "id": "0dac4753",
   "metadata": {},
   "outputs": [],
   "source": [
    "from sentence_transformers import CrossEncoder\n",
    "from langchain_core.documents import Document\n",
    "\n",
    "cross_encoder = CrossEncoder('cross-encoder/ms-marco-MiniLM-L-6-v2')\n"
   ]
  },
  {
   "cell_type": "code",
   "execution_count": 21,
   "id": "3e4b6bfe",
   "metadata": {},
   "outputs": [],
   "source": [
    "import numpy as np"
   ]
  },
  {
   "cell_type": "code",
   "execution_count": 19,
   "id": "8aa36f97",
   "metadata": {},
   "outputs": [
    {
     "name": "stdout",
     "output_type": "stream",
     "text": [
      "Scores:\n"
     ]
    },
    {
     "data": {
      "text/plain": [
       "array([-10.616302 ,  -8.4896145, -10.841426 ], dtype=float32)"
      ]
     },
     "execution_count": 19,
     "metadata": {},
     "output_type": "execute_result"
    }
   ],
   "source": [
    "query = \"I wrote my programm in Python\"\n",
    "\n",
    "docs = [\"Hello WOrld!\", \"C programming and POSIX\", \"Good Morning!\"]\n",
    "\n",
    "\n",
    "\n",
    "pairs = [[query, doc] for doc in docs]\n",
    "scores = cross_encoder.predict(pairs)\n",
    "print(\"Scores:\")\n",
    "scores"
   ]
  },
  {
   "cell_type": "code",
   "execution_count": 33,
   "id": "977b3580",
   "metadata": {},
   "outputs": [
    {
     "data": {
      "text/plain": [
       "array([1, 0, 2])"
      ]
     },
     "execution_count": 33,
     "metadata": {},
     "output_type": "execute_result"
    }
   ],
   "source": [
    "np.argsort(scores)[::-1]"
   ]
  },
  {
   "cell_type": "code",
   "execution_count": 42,
   "id": "7eec3126",
   "metadata": {},
   "outputs": [],
   "source": [
    "class CrossEncoderReRanker():\n",
    "    def __init__(self, cross_encoder):\n",
    "        self.cross_encoder = cross_encoder\n",
    "        \n",
    "    def _compute_scores(self, query, documents):\n",
    "        \n",
    "        pairs = [[query, doc.page_content] for doc in documents]\n",
    "        scores = self.cross_encoder.predict(pairs)\n",
    "        \n",
    "        return scores\n",
    "    \n",
    "    def get_most_relevant_chunks(self, query, documents, n):\n",
    "        \n",
    "        scores = self._compute_scores(query, documents)\n",
    "        sorted_indices = np.argsort(scores)[::-1]\n",
    "        \n",
    "        relevant_docs = [documents[i] for i in sorted_indices[:n]]\n",
    "        \n",
    "        return relevant_docs\n",
    "        \n",
    "        \n",
    "    \n",
    "    "
   ]
  },
  {
   "cell_type": "code",
   "execution_count": 43,
   "id": "b26d15f4",
   "metadata": {},
   "outputs": [],
   "source": [
    "reranker = CrossEncoderReRanker(cross_encoder)\n"
   ]
  },
  {
   "cell_type": "code",
   "execution_count": 44,
   "id": "3742257a",
   "metadata": {},
   "outputs": [],
   "source": [
    "doc1 = Document(page_content=\"I have been doing Python programming since 2021.I use Django for Web Development\",\n",
    "                metadata={\"page\" : 1})\n",
    "\n",
    "doc2 = Document(page_content=\"My name is Stas. I live in Bangkok\",\n",
    "                metadata={\"page\" : 1})\n",
    "\n",
    "\n"
   ]
  },
  {
   "cell_type": "code",
   "execution_count": 47,
   "id": "5cf42744",
   "metadata": {},
   "outputs": [
    {
     "data": {
      "text/plain": [
       "[Document(page_content='My name is Stas. I live in Bangkok', metadata={'page': 1}),\n",
       " Document(page_content='I have been doing Python programming since 2021.I use Django for Web Development', metadata={'page': 1})]"
      ]
     },
     "execution_count": 47,
     "metadata": {},
     "output_type": "execute_result"
    }
   ],
   "source": [
    "reranker.get_most_relevant_chunks(\"Do you like Thailand?\", [doc1, doc2], n=2)"
   ]
  },
  {
   "cell_type": "code",
   "execution_count": null,
   "id": "a43ff031",
   "metadata": {},
   "outputs": [],
   "source": []
  }
 ],
 "metadata": {
  "kernelspec": {
   "display_name": "Python 3 (ipykernel)",
   "language": "python",
   "name": "python3"
  },
  "language_info": {
   "codemirror_mode": {
    "name": "ipython",
    "version": 3
   },
   "file_extension": ".py",
   "mimetype": "text/x-python",
   "name": "python",
   "nbconvert_exporter": "python",
   "pygments_lexer": "ipython3",
   "version": "3.10.12"
  }
 },
 "nbformat": 4,
 "nbformat_minor": 5
}
