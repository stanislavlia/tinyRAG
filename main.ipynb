{
 "cells": [
  {
   "cell_type": "code",
   "execution_count": 1,
   "id": "633b34c3",
   "metadata": {},
   "outputs": [],
   "source": [
    "from langchain_community.document_loaders import PyPDFLoader\n",
    "from langchain.text_splitter import RecursiveCharacterTextSplitter\n",
    "import os\n",
    "from tqdm import tqdm\n",
    "from embedding_model import Embedder\n",
    "import chromadb\n",
    "import torch\n",
    "\n",
    "\n",
    "\n"
   ]
  },
  {
   "cell_type": "code",
   "execution_count": 2,
   "id": "d8d6eb64",
   "metadata": {},
   "outputs": [],
   "source": [
    "def augment_multiple_query(query, model=\"gpt-3.5-turbo\"):\n",
    "    messages = [\n",
    "        {\n",
    "            \"role\": \"system\",\n",
    "            \"content\": SYSTEM_PROMT_QUERY_EXPANSION,\n",
    "        },\n",
    "        {\"role\": \"user\", \"content\": query}\n",
    "    ]\n",
    "\n",
    "    response = openai_client.chat.completions.create(\n",
    "        model=model,\n",
    "        messages=messages,\n",
    "    )\n",
    "    content = response.choices[0].message.content\n",
    "    content = content.split(\"\\n\")\n",
    "    return content"
   ]
  },
  {
   "cell_type": "markdown",
   "id": "48f37cf0",
   "metadata": {},
   "source": [
    "### Usage\n",
    "\n",
    "\n",
    "```bash\n",
    "docker run tinyrag --persistent_storage [path]  \n",
    "```\n",
    "\n",
    "\n",
    "```bash\n",
    "docker-compose up\n",
    "```\n",
    "### This should deploys a RAG API with 4 endpoints:\n",
    "\n",
    " - /tinyrag/upload_file\n",
    " \n",
    " - /tinyrag/upload_zip\n",
    " \n",
    " - /tinyrag/query$?expand\n",
    " \n",
    " - /tinyrag/reset\n",
    " \n",
    " \n",
    " Think more about it"
   ]
  },
  {
   "cell_type": "code",
   "execution_count": 15,
   "id": "0660624a",
   "metadata": {},
   "outputs": [],
   "source": [
    "class PdfChunksLoader_ChromaDB():\n",
    "    def __init__(self, collection, embedder, text_splitter=None):\n",
    "        \n",
    "        \n",
    "        \n",
    "        self.collection = collection\n",
    "        self.embedder = embedder\n",
    "        self.id = 0\n",
    "        self.text_splitter = text_splitter if text_splitter else RecursiveCharacterTextSplitter(chunk_size=1500, \n",
    "                                                                           chunk_overlap=100,\n",
    "                                                                           separators=[\"\\n\", \"\\t\", \".\", \",\", \" \", \"\"],)\n",
    "        \n",
    "        \n",
    "    def _extract_pdf_chunks(self, path):\n",
    "        \n",
    "        loader = PyPDFLoader(path)\n",
    "        \n",
    "        chunks = loader.load_and_split(text_splitter=self.text_splitter)\n",
    "        \n",
    "        return chunks\n",
    "        \n",
    "        \n",
    "    def populate(self, documents):\n",
    "        ##TODO: add batch size for computing embeddings\n",
    "        \n",
    "        self.collection.add(\n",
    "            documents=[chunk.page_content for chunk in tqdm(documents)],\n",
    "            \n",
    "            metadatas = [chunk.metadata for chunk in tqdm(documents)],\n",
    "            \n",
    "            embeddings = self.embedder.compute_embeddings([chunk.page_content for chunk in documents]).tolist(),\n",
    "            ids = [\"uri\" + str(abs(hash(chunk.page_content))) for chunk in tqdm(documents)]\n",
    "            \n",
    "            )\n",
    " \n",
    "        print(\"Documents loaded to DB\")"
   ]
  },
  {
   "cell_type": "code",
   "execution_count": 20,
   "id": "2b7d4c4e",
   "metadata": {},
   "outputs": [],
   "source": [
    "\n",
    "\n",
    "#Works for single collection\n",
    "class RetrievalAugmentedGenerator():\n",
    "    def __init__(self, db_client, embedder, collection_name):\n",
    "        \n",
    "        self.db_client = db_client\n",
    "        self.embedder = embedder\n",
    "        \n",
    "        \n",
    "        \n",
    "        self.collection_name = collection_name\n",
    "        self.collection = self.db_client.get_or_create_collection(name=self.collection_name)\n",
    "        \n",
    "        self.chunk_loader = PdfChunksLoader_ChromaDB(self.collection,\n",
    "                                                     embedder)\n",
    "\n",
    "    def upload_pdf_file(self, path_file):\n",
    "        ##Load chunks by batches\n",
    "        \n",
    "        docs = self.chunk_loader._extract_pdf_chunks(path_file)\n",
    "        \n",
    "        self.chunk_loader.populate(documents=docs)\n",
    "        \n",
    "    \n",
    "    def upload_documents_from_list(self, documents):\n",
    "        pass\n",
    "    \n",
    "    def upload_from_dir(self, path_dir):\n",
    "        ##Load chunks by batches\n",
    "        pass\n",
    "    \n",
    "    \n",
    "    \n",
    "    \n",
    "    def query(self, queries, top_k, query_augment=True, cross_encoder_rank=True):\n",
    "        pass\n",
    "    \n",
    "    def get(self, ids, where, limit):\n",
    "        pass\n",
    "    \n",
    "    def reset_collection(self):\n",
    "        pass\n",
    "    \n",
    "    \n",
    "    \n",
    "    "
   ]
  },
  {
   "cell_type": "code",
   "execution_count": 17,
   "id": "53e57506",
   "metadata": {},
   "outputs": [],
   "source": [
    "db_client = chromadb.PersistentClient(path=\"./persistent_storage\")\n",
    "\n",
    "#collection = db_client.get_collection(\"my_collection\")\n",
    "embedder =  Embedder(model_name='sentence-transformers/all-MiniLM-L12-v2',\n",
    "                    tokenizer_name='sentence-transformers/all-MiniLM-L12-v2')\n",
    "\n"
   ]
  },
  {
   "cell_type": "code",
   "execution_count": 21,
   "id": "a41a73f6",
   "metadata": {},
   "outputs": [],
   "source": [
    "rag = RetrievalAugmentedGenerator(db_client, embedder, \"hello\")"
   ]
  },
  {
   "cell_type": "code",
   "execution_count": null,
   "id": "a6173f0a",
   "metadata": {},
   "outputs": [
    {
     "name": "stderr",
     "output_type": "stream",
     "text": [
      "100%|███████████████████████████████████████| 66/66 [00:00<00:00, 442210.96it/s]\n",
      "100%|███████████████████████████████████████| 66/66 [00:00<00:00, 236601.76it/s]\n"
     ]
    }
   ],
   "source": [
    "rag.upload_pdf_file(\"library/pthreads.pdf\")"
   ]
  },
  {
   "cell_type": "code",
   "execution_count": null,
   "id": "c9d71248",
   "metadata": {},
   "outputs": [],
   "source": []
  }
 ],
 "metadata": {
  "kernelspec": {
   "display_name": "Python 3 (ipykernel)",
   "language": "python",
   "name": "python3"
  },
  "language_info": {
   "codemirror_mode": {
    "name": "ipython",
    "version": 3
   },
   "file_extension": ".py",
   "mimetype": "text/x-python",
   "name": "python",
   "nbconvert_exporter": "python",
   "pygments_lexer": "ipython3",
   "version": "3.10.12"
  }
 },
 "nbformat": 4,
 "nbformat_minor": 5
}
